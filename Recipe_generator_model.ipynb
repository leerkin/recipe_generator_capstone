{
 "cells": [
  {
   "metadata": {},
   "cell_type": "code",
   "outputs": [],
   "execution_count": null,
   "source": "pip install transformers datasets flax jaxlib",
   "id": "e71f15f107ee0c49"
  },
  {
   "cell_type": "code",
   "id": "initial_id",
   "metadata": {
    "collapsed": true,
    "ExecuteTime": {
     "end_time": "2024-06-24T15:09:17.796850Z",
     "start_time": "2024-06-24T15:09:17.790742Z"
    }
   },
   "source": [
    "import jax.numpy as jnp\n",
    "import jax\n",
    "import jaxlib\n",
    "import flax\n",
    "\n",
    "from transformers import FlaxAutoModelForSeq2SeqLM\n",
    "from transformers import AutoTokenizer"
   ],
   "outputs": [],
   "execution_count": 2
  },
  {
   "metadata": {},
   "cell_type": "code",
   "outputs": [],
   "execution_count": null,
   "source": [
    "MODEL_NAME_OR_PATH = \"flax-community/t5-recipe-generation\"\n",
    "tokenizer = AutoTokenizer.from_pretrained(MODEL_NAME_OR_PATH, use_fast=True)\n",
    "model = FlaxAutoModelForSeq2SeqLM.from_pretrained(MODEL_NAME_OR_PATH)"
   ],
   "id": "c362adf16d52aae4"
  },
  {
   "metadata": {},
   "cell_type": "code",
   "outputs": [],
   "execution_count": null,
   "source": [
    "generation_kwargs = {\n",
    "    \"max_length\": 512,\n",
    "    \"min_length\": 64,\n",
    "    \"no_repeat_ngram_size\": 3,\n",
    "    \"do_sample\": True,\n",
    "    \"top_k\": 5,\n",
    "    \"top_p\": 0.95\n",
    "}\n",
    "\n",
    "items = [\n",
    "    \"macaroni, butter, salt, bacon, milk, flour, pepper, cream corn\",\n",
    "    \"provolone cheese, bacon, bread, ginger\"\n",
    "]\n",
    "\n",
    "prefix = \"items: \"\n",
    "\n",
    "\n",
    "\n",
    "special_tokens = tokenizer.all_special_tokens\n",
    "tokens_map = {\n",
    "    \"<sep>\": \"--\",\n",
    "    \"<section>\": \"\\n\"\n",
    "}"
   ],
   "id": "7336ad618e8a3baf"
  },
  {
   "metadata": {},
   "cell_type": "code",
   "outputs": [],
   "execution_count": null,
   "source": [
    "def skip_special_tokens(text, special_tokens):\n",
    "    for token in special_tokens:\n",
    "        text = text.replace(token, \"\")\n",
    "\n",
    "    return text\n",
    "\n",
    "def target_postprocessing(texts, special_tokens):\n",
    "    if not isinstance(texts, list):\n",
    "        texts = [texts]\n",
    "\n",
    "    new_texts = []\n",
    "    for text in texts:\n",
    "        text = skip_special_tokens(text, special_tokens)\n",
    "\n",
    "        for k, v in tokens_map.items():\n",
    "            text = text.replace(k, v)\n",
    "\n",
    "        new_texts.append(text)\n",
    "\n",
    "    return new_texts\n",
    "\n",
    "def generation_function(texts):\n",
    "    _inputs = texts if isinstance(texts, list) else [texts]\n",
    "    inputs = [prefix + inp for inp in _inputs]\n",
    "\n",
    "    # Tokenize without specifying return_tensors\n",
    "    tokenized_inputs = tokenizer(\n",
    "        inputs,\n",
    "        max_length=256,\n",
    "        padding=\"max_length\",\n",
    "        truncation=True,\n",
    "        return_tensors=\"np\"  # Use numpy for initial conversion\n",
    "    )\n",
    "\n",
    "    # Manually convert numpy tensors to JAX tensors\n",
    "    input_ids = jnp.array(tokenized_inputs['input_ids'])\n",
    "    attention_mask = jnp.array(tokenized_inputs['attention_mask'])\n",
    "\n",
    "    output_ids = model.generate(\n",
    "        input_ids=input_ids,\n",
    "        attention_mask=attention_mask,\n",
    "        **generation_kwargs\n",
    "    )\n",
    "\n",
    "    generated = output_ids.sequences\n",
    "    generated_recipe = target_postprocessing(\n",
    "        tokenizer.batch_decode(generated, skip_special_tokens=False),\n",
    "        special_tokens\n",
    "    )\n",
    "\n",
    "    return generated_recipe"
   ],
   "id": "a058f1ddc8102d43"
  },
  {
   "metadata": {},
   "cell_type": "code",
   "outputs": [],
   "execution_count": null,
   "source": [
    "generated = generation_function(items)\n",
    "for text in generated:\n",
    "    sections = text.split(\"\\n\")\n",
    "    for section in sections:\n",
    "        section = section.strip()\n",
    "        if section.startswith(\"title:\"):\n",
    "            section = section.replace(\"title:\", \"\")\n",
    "            headline = \"TITLE\"\n",
    "        elif section.startswith(\"ingredients:\"):\n",
    "            section = section.replace(\"ingredients:\", \"\")\n",
    "            headline = \"INGREDIENTS\"\n",
    "        elif section.startswith(\"directions:\"):\n",
    "            section = section.replace(\"directions:\", \"\")\n",
    "            headline = \"DIRECTIONS\"\n",
    "\n",
    "        if headline == \"TITLE\":\n",
    "            print(f\"[{headline}]: {section.strip().capitalize()}\")\n",
    "        else:\n",
    "            section_info = [f\"  - {i+1}: {info.strip().capitalize()}\" for i, info in enumerate(section.split(\"--\"))]\n",
    "            print(f\"[{headline}]:\")\n",
    "            print(\"\\n\".join(section_info))\n",
    "\n",
    "    print(\"-\" * 130)"
   ],
   "id": "ecdaddbbe9e8d890"
  }
 ],
 "metadata": {
  "kernelspec": {
   "display_name": "Python 3",
   "language": "python",
   "name": "python3"
  },
  "language_info": {
   "codemirror_mode": {
    "name": "ipython",
    "version": 2
   },
   "file_extension": ".py",
   "mimetype": "text/x-python",
   "name": "python",
   "nbconvert_exporter": "python",
   "pygments_lexer": "ipython2",
   "version": "2.7.6"
  }
 },
 "nbformat": 4,
 "nbformat_minor": 5
}
