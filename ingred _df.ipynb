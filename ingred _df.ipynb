{
 "cells": [
  {
   "cell_type": "code",
   "execution_count": 119,
   "metadata": {},
   "outputs": [],
   "source": [
    "import pandas as pd\n",
    "import pandas as pd\n",
    "from termcolor import colored\n",
    "import matplotlib.pyplot as plt\n",
    "import seaborn as sns\n",
    "import json\n",
    "import re\n",
    "# ignore Deprecation Warning\n",
    "import warnings\n",
    "warnings.filterwarnings(\"ignore\", category=DeprecationWarning) \n",
    "from sklearn.model_selection import train_test_split\n",
    "from sklearn.metrics import confusion_matrix, accuracy_score, recall_score\n",
    "from sklearn.preprocessing import StandardScaler\n",
    "\n",
    "import tensorflow as tf\n",
    "from tensorflow.keras.utils import plot_model"
   ]
  },
  {
   "cell_type": "code",
   "execution_count": 120,
   "metadata": {},
   "outputs": [
    {
     "data": {
      "text/html": [
       "<div>\n",
       "<style scoped>\n",
       "    .dataframe tbody tr th:only-of-type {\n",
       "        vertical-align: middle;\n",
       "    }\n",
       "\n",
       "    .dataframe tbody tr th {\n",
       "        vertical-align: top;\n",
       "    }\n",
       "\n",
       "    .dataframe thead th {\n",
       "        text-align: right;\n",
       "    }\n",
       "</style>\n",
       "<table border=\"1\" class=\"dataframe\">\n",
       "  <thead>\n",
       "    <tr style=\"text-align: right;\">\n",
       "      <th></th>\n",
       "      <th># id</th>\n",
       "      <th>ingredient name</th>\n",
       "      <th>category</th>\n",
       "    </tr>\n",
       "  </thead>\n",
       "  <tbody>\n",
       "    <tr>\n",
       "      <th>0</th>\n",
       "      <td>0</td>\n",
       "      <td>magnolia_tripetala</td>\n",
       "      <td>flower</td>\n",
       "    </tr>\n",
       "    <tr>\n",
       "      <th>1</th>\n",
       "      <td>1</td>\n",
       "      <td>calyptranthes_parriculata</td>\n",
       "      <td>plant</td>\n",
       "    </tr>\n",
       "    <tr>\n",
       "      <th>2</th>\n",
       "      <td>2</td>\n",
       "      <td>chamaecyparis_pisifera_oil</td>\n",
       "      <td>plant derivative</td>\n",
       "    </tr>\n",
       "    <tr>\n",
       "      <th>3</th>\n",
       "      <td>3</td>\n",
       "      <td>mackerel</td>\n",
       "      <td>fish/seafood</td>\n",
       "    </tr>\n",
       "    <tr>\n",
       "      <th>4</th>\n",
       "      <td>4</td>\n",
       "      <td>mimusops_elengi_flower</td>\n",
       "      <td>flower</td>\n",
       "    </tr>\n",
       "  </tbody>\n",
       "</table>\n",
       "</div>"
      ],
      "text/plain": [
       "   # id             ingredient name          category\n",
       "0     0          magnolia_tripetala            flower\n",
       "1     1   calyptranthes_parriculata             plant\n",
       "2     2  chamaecyparis_pisifera_oil  plant derivative\n",
       "3     3                    mackerel      fish/seafood\n",
       "4     4      mimusops_elengi_flower            flower"
      ]
     },
     "execution_count": 120,
     "metadata": {},
     "output_type": "execute_result"
    }
   ],
   "source": [
    "ingr_path = 'data/flavor_network_data/ingr_comp/ingr_info.tsv'\n",
    "ingr_df = pd.read_csv(ingr_path, delimiter='\\t')\n",
    "ingr_df.head()"
   ]
  },
  {
   "cell_type": "code",
   "execution_count": 121,
   "metadata": {},
   "outputs": [
    {
     "data": {
      "text/plain": [
       "(1530, 3)"
      ]
     },
     "execution_count": 121,
     "metadata": {},
     "output_type": "execute_result"
    }
   ],
   "source": [
    "ingr_df.shape"
   ]
  },
  {
   "cell_type": "code",
   "execution_count": 122,
   "metadata": {},
   "outputs": [
    {
     "name": "stdout",
     "output_type": "stream",
     "text": [
      "<class 'pandas.core.frame.DataFrame'>\n",
      "RangeIndex: 1530 entries, 0 to 1529\n",
      "Data columns (total 3 columns):\n",
      " #   Column           Non-Null Count  Dtype \n",
      "---  ------           --------------  ----- \n",
      " 0   # id             1530 non-null   int64 \n",
      " 1   ingredient name  1530 non-null   object\n",
      " 2   category         1530 non-null   object\n",
      "dtypes: int64(1), object(2)\n",
      "memory usage: 36.0+ KB\n"
     ]
    }
   ],
   "source": [
    "ingr_df.info()"
   ]
  },
  {
   "cell_type": "code",
   "execution_count": 123,
   "metadata": {},
   "outputs": [],
   "source": [
    "ingr_df['ingredient name'] = ingr_df['ingredient name'].str.lower()\n",
    "ingr_df['category'] = ingr_df['category'].str.lower()"
   ]
  },
  {
   "cell_type": "code",
   "execution_count": 124,
   "metadata": {},
   "outputs": [
    {
     "name": "stdout",
     "output_type": "stream",
     "text": [
      "special charac in column 'ingredient name':\n",
      "{'_'}\n"
     ]
    }
   ],
   "source": [
    "special_characters = set()\n",
    "\n",
    "\n",
    "for sublist in ingr_df['ingredient name']:\n",
    "    for value in sublist:\n",
    "      \n",
    "        for char in value:\n",
    "            if not char.isalnum():  \n",
    "                special_characters.add(char)\n",
    "\n",
    "\n",
    "print(\"special charac in column 'ingredient name':\")\n",
    "print(special_characters)"
   ]
  },
  {
   "cell_type": "code",
   "execution_count": 125,
   "metadata": {},
   "outputs": [
    {
     "name": "stdout",
     "output_type": "stream",
     "text": [
      "special charac in column 'category':\n",
      "{'/', ' '}\n"
     ]
    }
   ],
   "source": [
    "special_characters = set()\n",
    "\n",
    "\n",
    "for sublist in ingr_df['category']:\n",
    "    for value in sublist:\n",
    "      \n",
    "        for char in value:\n",
    "            if not char.isalnum():  \n",
    "                special_characters.add(char)\n",
    "\n",
    "\n",
    "print(\"special charac in column 'category':\")\n",
    "print(special_characters)"
   ]
  },
  {
   "cell_type": "code",
   "execution_count": 126,
   "metadata": {},
   "outputs": [],
   "source": [
    "unique_ingredients = ingr_df['ingredient name'].unique()\n",
    "\n",
    "new_ingredient = pd.DataFrame(columns=unique_ingredients)"
   ]
  },
  {
   "cell_type": "code",
   "execution_count": 127,
   "metadata": {},
   "outputs": [
    {
     "data": {
      "text/html": [
       "<div>\n",
       "<style scoped>\n",
       "    .dataframe tbody tr th:only-of-type {\n",
       "        vertical-align: middle;\n",
       "    }\n",
       "\n",
       "    .dataframe tbody tr th {\n",
       "        vertical-align: top;\n",
       "    }\n",
       "\n",
       "    .dataframe thead th {\n",
       "        text-align: right;\n",
       "    }\n",
       "</style>\n",
       "<table border=\"1\" class=\"dataframe\">\n",
       "  <thead>\n",
       "    <tr style=\"text-align: right;\">\n",
       "      <th></th>\n",
       "      <th>magnolia_tripetala</th>\n",
       "      <th>calyptranthes_parriculata</th>\n",
       "      <th>chamaecyparis_pisifera_oil</th>\n",
       "      <th>mackerel</th>\n",
       "      <th>mimusops_elengi_flower</th>\n",
       "      <th>hyssop</th>\n",
       "      <th>buchu</th>\n",
       "      <th>black_pepper</th>\n",
       "      <th>eryngium_poterium_oil</th>\n",
       "      <th>peanut_butter</th>\n",
       "      <th>...</th>\n",
       "      <th>rue_oil</th>\n",
       "      <th>roasted_coconut</th>\n",
       "      <th>cajeput_oil</th>\n",
       "      <th>star_anise</th>\n",
       "      <th>feijoa</th>\n",
       "      <th>tobacco_oil</th>\n",
       "      <th>cinnamon_leaf</th>\n",
       "      <th>green_tea</th>\n",
       "      <th>artemisia_porrecta_oil</th>\n",
       "      <th>munster_cheese</th>\n",
       "    </tr>\n",
       "  </thead>\n",
       "  <tbody>\n",
       "  </tbody>\n",
       "</table>\n",
       "<p>0 rows × 1530 columns</p>\n",
       "</div>"
      ],
      "text/plain": [
       "Empty DataFrame\n",
       "Columns: [magnolia_tripetala, calyptranthes_parriculata, chamaecyparis_pisifera_oil, mackerel, mimusops_elengi_flower, hyssop, buchu, black_pepper, eryngium_poterium_oil, peanut_butter, artemisia_verlo, agastache_rugosa, satureia_thymera, petitgrain, orris_root, black_mustard_seed_oil, celery_oil, red_bean, almond, bacon, lavender, black_chokecherry, abies_canadensis, petitgrain_lemon, keta_salmon, jasmine_tea, grapefruit_peel, acacia_flower_oil, nezara_viridula, lemon_tree, litchi, filbert, yellow_passion_fruit_juice, jasmine, congo_geranium, maple_syrup, vervain_leaf, smoke, toasted_oat, reunion_geranium, kabosu_peel_oil, soybean, wintergreen_leaf, eucalyptus_hemilampra, jammus_citronella_oil, spike, blueberry, musk, callitris_glauca, red_currant, myrrh, pecan, cicuta_virosa_oil, purple_passion_fruit_juice, caja_fruit, juniper_leaf_oil, madagascar_cinnamon_leaf_oil, smoked_sausage, wort, celery_seed, pinus_sylvestris, chayote, beet_juice, dolphin, honey, agarwood, litsea_odorifera, mentha_crispa, american_peppermint_oil, cottage_cheese, bulgarian_clary_sage, solidago_odora, hop, paraguay_petitgrain, smoked_summer_sausage, myrocarpus_fastigiatus, eucalyptus_dives, picea_orientalis, tulip, ligusticum_acutilobum_oil, nutmeg_oil, tahiti_vanilla, matricaria_parthenium_oil, valencia_orange_juice, wine, piper_famechoni, carphephorus_corymbosus_leaf, tsuga_canadensis_oil, orange_juice, fagara_zanthoxyloides_oil, petitgrain_lemon_oil, guava_peel, bitter_orange, roasted_sesame_seed, avocado, clary_sage, blackberry_juice, tomato_juice, fig, american_storax, ...]\n",
       "Index: []\n",
       "\n",
       "[0 rows x 1530 columns]"
      ]
     },
     "execution_count": 127,
     "metadata": {},
     "output_type": "execute_result"
    }
   ],
   "source": [
    "new_ingredient.head(2)"
   ]
  },
  {
   "cell_type": "code",
   "execution_count": 128,
   "metadata": {},
   "outputs": [],
   "source": [
    "recipe_df = pd.read_csv('data/full_dataset.csv')"
   ]
  },
  {
   "cell_type": "code",
   "execution_count": 129,
   "metadata": {},
   "outputs": [
    {
     "data": {
      "text/plain": [
       "(2231142, 7)"
      ]
     },
     "execution_count": 129,
     "metadata": {},
     "output_type": "execute_result"
    }
   ],
   "source": [
    "recipe_df.shape"
   ]
  },
  {
   "cell_type": "code",
   "execution_count": 130,
   "metadata": {},
   "outputs": [
    {
     "data": {
      "text/html": [
       "<div>\n",
       "<style scoped>\n",
       "    .dataframe tbody tr th:only-of-type {\n",
       "        vertical-align: middle;\n",
       "    }\n",
       "\n",
       "    .dataframe tbody tr th {\n",
       "        vertical-align: top;\n",
       "    }\n",
       "\n",
       "    .dataframe thead th {\n",
       "        text-align: right;\n",
       "    }\n",
       "</style>\n",
       "<table border=\"1\" class=\"dataframe\">\n",
       "  <thead>\n",
       "    <tr style=\"text-align: right;\">\n",
       "      <th></th>\n",
       "      <th>Unnamed: 0</th>\n",
       "      <th>title</th>\n",
       "      <th>ingredients</th>\n",
       "      <th>directions</th>\n",
       "      <th>link</th>\n",
       "      <th>source</th>\n",
       "      <th>NER</th>\n",
       "    </tr>\n",
       "  </thead>\n",
       "  <tbody>\n",
       "    <tr>\n",
       "      <th>0</th>\n",
       "      <td>0</td>\n",
       "      <td>No-Bake Nut Cookies</td>\n",
       "      <td>[\"1 c. firmly packed brown sugar\", \"1/2 c. eva...</td>\n",
       "      <td>[\"In a heavy 2-quart saucepan, mix brown sugar...</td>\n",
       "      <td>www.cookbooks.com/Recipe-Details.aspx?id=44874</td>\n",
       "      <td>Gathered</td>\n",
       "      <td>[\"brown sugar\", \"milk\", \"vanilla\", \"nuts\", \"bu...</td>\n",
       "    </tr>\n",
       "  </tbody>\n",
       "</table>\n",
       "</div>"
      ],
      "text/plain": [
       "   Unnamed: 0                title   \n",
       "0           0  No-Bake Nut Cookies  \\\n",
       "\n",
       "                                         ingredients   \n",
       "0  [\"1 c. firmly packed brown sugar\", \"1/2 c. eva...  \\\n",
       "\n",
       "                                          directions   \n",
       "0  [\"In a heavy 2-quart saucepan, mix brown sugar...  \\\n",
       "\n",
       "                                             link    source   \n",
       "0  www.cookbooks.com/Recipe-Details.aspx?id=44874  Gathered  \\\n",
       "\n",
       "                                                 NER  \n",
       "0  [\"brown sugar\", \"milk\", \"vanilla\", \"nuts\", \"bu...  "
      ]
     },
     "execution_count": 130,
     "metadata": {},
     "output_type": "execute_result"
    }
   ],
   "source": [
    "recipe_df.head(1)"
   ]
  },
  {
   "cell_type": "code",
   "execution_count": 131,
   "metadata": {},
   "outputs": [],
   "source": [
    "recipe_ing_dir=recipe_df[['NER','directions']]"
   ]
  },
  {
   "cell_type": "code",
   "execution_count": 132,
   "metadata": {},
   "outputs": [
    {
     "data": {
      "text/html": [
       "<div>\n",
       "<style scoped>\n",
       "    .dataframe tbody tr th:only-of-type {\n",
       "        vertical-align: middle;\n",
       "    }\n",
       "\n",
       "    .dataframe tbody tr th {\n",
       "        vertical-align: top;\n",
       "    }\n",
       "\n",
       "    .dataframe thead th {\n",
       "        text-align: right;\n",
       "    }\n",
       "</style>\n",
       "<table border=\"1\" class=\"dataframe\">\n",
       "  <thead>\n",
       "    <tr style=\"text-align: right;\">\n",
       "      <th></th>\n",
       "      <th>NER</th>\n",
       "      <th>directions</th>\n",
       "    </tr>\n",
       "  </thead>\n",
       "  <tbody>\n",
       "    <tr>\n",
       "      <th>0</th>\n",
       "      <td>[\"brown sugar\", \"milk\", \"vanilla\", \"nuts\", \"bu...</td>\n",
       "      <td>[\"In a heavy 2-quart saucepan, mix brown sugar...</td>\n",
       "    </tr>\n",
       "  </tbody>\n",
       "</table>\n",
       "</div>"
      ],
      "text/plain": [
       "                                                 NER   \n",
       "0  [\"brown sugar\", \"milk\", \"vanilla\", \"nuts\", \"bu...  \\\n",
       "\n",
       "                                          directions  \n",
       "0  [\"In a heavy 2-quart saucepan, mix brown sugar...  "
      ]
     },
     "execution_count": 132,
     "metadata": {},
     "output_type": "execute_result"
    }
   ],
   "source": [
    "recipe_ing_dir.head(1)"
   ]
  },
  {
   "cell_type": "code",
   "execution_count": 133,
   "metadata": {},
   "outputs": [
    {
     "name": "stdout",
     "output_type": "stream",
     "text": [
      "                                                 NER   \n",
      "0  [\"brown sugar\", \"milk\", \"vanilla\", \"nuts\", \"bu...  \\\n",
      "1  [\"beef\", \"chicken breasts\", \"cream of mushroom...   \n",
      "2  [\"frozen corn\", \"cream cheese\", \"butter\", \"gar...   \n",
      "3  [\"chicken\", \"chicken gravy\", \"cream of mushroo...   \n",
      "4  [\"peanut butter\", \"graham cracker crumbs\", \"bu...   \n",
      "\n",
      "                                          directions  \n",
      "0  [\"In a heavy 2-quart saucepan, mix brown sugar...  \n",
      "1  [\"Place chipped beef on bottom of baking dish....  \n",
      "2  [\"In a slow cooker, combine all ingredients. C...  \n",
      "3  [\"Boil and debone chicken.\", \"Put bite size pi...  \n",
      "4  [\"Combine first four ingredients and press in ...  \n",
      "------\n",
      "                                                     NER   \n",
      "11155  [\"butter\", \"powdered sugar\", \"vanilla\", \"water...  \\\n",
      "11156  [\"cucumbers\", \"salt\", \"sesame seeds\", \"sugar\",...   \n",
      "11157  [\"sugar\", \"water\", \"white Karo syrup\", \"salt\",...   \n",
      "11158  [\"flour\", \"baking soda\", \"salt\", \"baking powde...   \n",
      "11159  [\"banana\", \"sugar\", \"butter\", \"egg\", \"flour\", ...   \n",
      "\n",
      "                                              directions  \n",
      "11155  [\"Cream butter. Add sugar and other ingredient...  \n",
      "11156  [\"Sprinkle salt over cucumbers and let stand a...  \n",
      "11157  [\"Bring to a boil and boil, covered, 2 minutes...  \n",
      "11158  [\"Sift flour, baking soda, salt, baking powder...  \n",
      "11159  [\"Cream the butter and sugar together. Add ban...  \n"
     ]
    }
   ],
   "source": [
    "num_dfs = 200\n",
    "\n",
    "\n",
    "chunk_size = len(recipe_ing_dir) // num_dfs\n",
    "\n",
    "\n",
    "dfs = [recipe_ing_dir.iloc[i:i + chunk_size] for i in range(0, len(recipe_ing_dir), chunk_size)]\n",
    "\n",
    "\n",
    "if len(dfs) > num_dfs:\n",
    "    dfs[num_dfs-1] = pd.concat([dfs[num_dfs-1], dfs[num_dfs]], ignore_index=True)\n",
    "    dfs = dfs[:num_dfs]\n",
    "\n",
    "\n",
    "for i, df in enumerate(dfs):\n",
    "    globals()[f'df_{i+1}'] = df\n",
    "\n",
    "\n",
    "print(df_1.head())\n",
    "print(\"------\")\n",
    "print(df_2.head())"
   ]
  },
  {
   "cell_type": "code",
   "execution_count": 134,
   "metadata": {},
   "outputs": [
    {
     "data": {
      "text/html": [
       "<div>\n",
       "<style scoped>\n",
       "    .dataframe tbody tr th:only-of-type {\n",
       "        vertical-align: middle;\n",
       "    }\n",
       "\n",
       "    .dataframe tbody tr th {\n",
       "        vertical-align: top;\n",
       "    }\n",
       "\n",
       "    .dataframe thead th {\n",
       "        text-align: right;\n",
       "    }\n",
       "</style>\n",
       "<table border=\"1\" class=\"dataframe\">\n",
       "  <thead>\n",
       "    <tr style=\"text-align: right;\">\n",
       "      <th></th>\n",
       "      <th>NER</th>\n",
       "      <th>directions</th>\n",
       "    </tr>\n",
       "  </thead>\n",
       "  <tbody>\n",
       "    <tr>\n",
       "      <th>368115</th>\n",
       "      <td>[\"mushroom soup\", \"onion soup\"]</td>\n",
       "      <td>[\"Put roast in oven safe pan, frozen.\", \"Blend...</td>\n",
       "    </tr>\n",
       "    <tr>\n",
       "      <th>368116</th>\n",
       "      <td>[\"chicken livers\", \"ground meat\", \"parsley\", \"...</td>\n",
       "      <td>[\"Ground chicken livers and mix with ground me...</td>\n",
       "    </tr>\n",
       "    <tr>\n",
       "      <th>368117</th>\n",
       "      <td>[\"sugar\", \"margarine\", \"light corn syrup\", \"eg...</td>\n",
       "      <td>[\"Preheat oven to 350\\u00b0.\", \"Beat together ...</td>\n",
       "    </tr>\n",
       "    <tr>\n",
       "      <th>368118</th>\n",
       "      <td>[\"cream cheese\", \"butter\", \"egg yolks\", \"onion...</td>\n",
       "      <td>[\"Work first four ingredients together.\", \"Fol...</td>\n",
       "    </tr>\n",
       "    <tr>\n",
       "      <th>368119</th>\n",
       "      <td>[\"flour\", \"sugar\", \"salt\", \"butter\"]</td>\n",
       "      <td>[\"Cream butter until light.\", \"Add flour, suga...</td>\n",
       "    </tr>\n",
       "  </tbody>\n",
       "</table>\n",
       "</div>"
      ],
      "text/plain": [
       "                                                      NER   \n",
       "368115                    [\"mushroom soup\", \"onion soup\"]  \\\n",
       "368116  [\"chicken livers\", \"ground meat\", \"parsley\", \"...   \n",
       "368117  [\"sugar\", \"margarine\", \"light corn syrup\", \"eg...   \n",
       "368118  [\"cream cheese\", \"butter\", \"egg yolks\", \"onion...   \n",
       "368119               [\"flour\", \"sugar\", \"salt\", \"butter\"]   \n",
       "\n",
       "                                               directions  \n",
       "368115  [\"Put roast in oven safe pan, frozen.\", \"Blend...  \n",
       "368116  [\"Ground chicken livers and mix with ground me...  \n",
       "368117  [\"Preheat oven to 350\\u00b0.\", \"Beat together ...  \n",
       "368118  [\"Work first four ingredients together.\", \"Fol...  \n",
       "368119  [\"Cream butter until light.\", \"Add flour, suga...  "
      ]
     },
     "execution_count": 134,
     "metadata": {},
     "output_type": "execute_result"
    }
   ],
   "source": [
    "df_34.head()"
   ]
  },
  {
   "cell_type": "code",
   "execution_count": 135,
   "metadata": {},
   "outputs": [
    {
     "data": {
      "text/plain": [
       "(11155, 2)"
      ]
     },
     "execution_count": 135,
     "metadata": {},
     "output_type": "execute_result"
    }
   ],
   "source": [
    "df_137.shape"
   ]
  },
  {
   "cell_type": "code",
   "execution_count": 136,
   "metadata": {},
   "outputs": [
    {
     "data": {
      "text/html": [
       "<div>\n",
       "<style scoped>\n",
       "    .dataframe tbody tr th:only-of-type {\n",
       "        vertical-align: middle;\n",
       "    }\n",
       "\n",
       "    .dataframe tbody tr th {\n",
       "        vertical-align: top;\n",
       "    }\n",
       "\n",
       "    .dataframe thead th {\n",
       "        text-align: right;\n",
       "    }\n",
       "</style>\n",
       "<table border=\"1\" class=\"dataframe\">\n",
       "  <thead>\n",
       "    <tr style=\"text-align: right;\">\n",
       "      <th></th>\n",
       "      <th>NER</th>\n",
       "      <th>directions</th>\n",
       "    </tr>\n",
       "  </thead>\n",
       "  <tbody>\n",
       "    <tr>\n",
       "      <th>1517080</th>\n",
       "      <td>[\"ground beef\", \"green peppers\", \"onion\", \"gar...</td>\n",
       "      <td>[\"In a stockpot, cook the beef, green peppers ...</td>\n",
       "    </tr>\n",
       "    <tr>\n",
       "      <th>1517081</th>\n",
       "      <td>[\"red potatoes\", \"links\", \"fresh kielbasa\", \"b...</td>\n",
       "      <td>[\"Place potatoes in a large saucepan and cover...</td>\n",
       "    </tr>\n",
       "    <tr>\n",
       "      <th>1517082</th>\n",
       "      <td>[\"pork loin chops\", \"vegetable oil\", \"butter\",...</td>\n",
       "      <td>[\"In a large skillet, brown pork chops in oil ...</td>\n",
       "    </tr>\n",
       "    <tr>\n",
       "      <th>1517083</th>\n",
       "      <td>[\"egg\", \"chicken broth\", \"butter\", \"cubes\", \"m...</td>\n",
       "      <td>[\"In a large bowl, combine the egg, broth and ...</td>\n",
       "    </tr>\n",
       "    <tr>\n",
       "      <th>1517084</th>\n",
       "      <td>[\"active dry yeast\", \"water\", \"caraway seeds\",...</td>\n",
       "      <td>[\"In a small bowl, dissolve yeast in warm wate...</td>\n",
       "    </tr>\n",
       "  </tbody>\n",
       "</table>\n",
       "</div>"
      ],
      "text/plain": [
       "                                                       NER   \n",
       "1517080  [\"ground beef\", \"green peppers\", \"onion\", \"gar...  \\\n",
       "1517081  [\"red potatoes\", \"links\", \"fresh kielbasa\", \"b...   \n",
       "1517082  [\"pork loin chops\", \"vegetable oil\", \"butter\",...   \n",
       "1517083  [\"egg\", \"chicken broth\", \"butter\", \"cubes\", \"m...   \n",
       "1517084  [\"active dry yeast\", \"water\", \"caraway seeds\",...   \n",
       "\n",
       "                                                directions  \n",
       "1517080  [\"In a stockpot, cook the beef, green peppers ...  \n",
       "1517081  [\"Place potatoes in a large saucepan and cover...  \n",
       "1517082  [\"In a large skillet, brown pork chops in oil ...  \n",
       "1517083  [\"In a large bowl, combine the egg, broth and ...  \n",
       "1517084  [\"In a small bowl, dissolve yeast in warm wate...  "
      ]
     },
     "execution_count": 136,
     "metadata": {},
     "output_type": "execute_result"
    }
   ],
   "source": [
    "df_137.head()"
   ]
  },
  {
   "cell_type": "code",
   "execution_count": 137,
   "metadata": {},
   "outputs": [
    {
     "name": "stdout",
     "output_type": "stream",
     "text": [
      "                                                       NER   \n",
      "1517080  [ground_beef, green_peppers, onion, garlic, to...  \\\n",
      "1517081  [red_potatoes, links, fresh_kielbasa, butter, ...   \n",
      "1517082  [pork_loin_chops, vegetable_oil, butter, water...   \n",
      "1517083  [egg, chicken_broth, butter, cubes, mushroom_s...   \n",
      "1517084  [active_dry_yeast, water, caraway_seeds, salt,...   \n",
      "...                                                    ...   \n",
      "1528230  [frozen_rhubarb, cold_water, sugar, raspberry,...   \n",
      "1528231  [Pastry, sugar, allpurpose, salt, fresh_pears,...   \n",
      "1528232  [butter, sugar, milk, mint_Andes, marshmallow_...   \n",
      "1528233  [bacon, broccoli_florets, onion, mushrooms, li...   \n",
      "1528234  [ground_beef, onions, potatoes, green_pepper, ...   \n",
      "\n",
      "                                                directions  \n",
      "1517080  [\"In a stockpot, cook the beef, green peppers ...  \n",
      "1517081  [\"Place potatoes in a large saucepan and cover...  \n",
      "1517082  [\"In a large skillet, brown pork chops in oil ...  \n",
      "1517083  [\"In a large bowl, combine the egg, broth and ...  \n",
      "1517084  [\"In a small bowl, dissolve yeast in warm wate...  \n",
      "...                                                    ...  \n",
      "1528230  [\"In a saucepan, cook rhubarb, 1/2 cup water a...  \n",
      "1528231  [\"Line a 9-in. pie plate with pastry; trim and...  \n",
      "1528232  [\"Butter a 15x10x1-in. pan with 1 tablespoon b...  \n",
      "1528233  [\"In a skillet, brown bacon. Remove, reserving...  \n",
      "1528234  [\"In a Dutch oven, cook beef over medium heat ...  \n",
      "\n",
      "[11155 rows x 2 columns]\n"
     ]
    },
    {
     "name": "stderr",
     "output_type": "stream",
     "text": [
      "C:\\Users\\cunia\\AppData\\Local\\Temp\\ipykernel_17060\\2841042643.py:22: SettingWithCopyWarning: \n",
      "A value is trying to be set on a copy of a slice from a DataFrame.\n",
      "Try using .loc[row_indexer,col_indexer] = value instead\n",
      "\n",
      "See the caveats in the documentation: https://pandas.pydata.org/pandas-docs/stable/user_guide/indexing.html#returning-a-view-versus-a-copy\n",
      "  df_137['NER'] = df_137['NER'].apply(process_and_clean_ner_column)\n"
     ]
    }
   ],
   "source": [
    "def clean_ingredient(ingredient):\n",
    "  # Remove special characters\n",
    "  cleaned = re.sub(r'[^a-zA-Z0-9\\s]', '', ingredient)\n",
    "  cleaned = cleaned.replace(' ', '_')   ####aggiunto\n",
    "  return cleaned.strip()# Function to process and clean the NER column\n",
    "def process_and_clean_ner_column(ner_list):\n",
    "  try:\n",
    "    # Evaluate the string to a list if necessary\n",
    "    if isinstance(ner_list, str):\n",
    "      ner_list = eval(ner_list)\n",
    "    # Ensure ner_list is actually a list\n",
    "    if isinstance(ner_list, list):\n",
    "      # Clean each ingredient in the list\n",
    "      cleaned_ingredients = [clean_ingredient(ingredient) for ingredient in ner_list]\n",
    "      return cleaned_ingredients\n",
    "    else:\n",
    "      return ner_list\n",
    "  except Exception as e:\n",
    "    print(f\"Error processing list: {e}\")\n",
    "    return ner_list # Return the original list if there's an error\n",
    "  # Apply the processing function to the NER column\n",
    "df_137['NER'] = df_137['NER'].apply(process_and_clean_ner_column)\n",
    "# Print the cleaned DataFrame\n",
    "print(df_137)"
   ]
  },
  {
   "cell_type": "code",
   "execution_count": 138,
   "metadata": {},
   "outputs": [
    {
     "data": {
      "text/html": [
       "<div>\n",
       "<style scoped>\n",
       "    .dataframe tbody tr th:only-of-type {\n",
       "        vertical-align: middle;\n",
       "    }\n",
       "\n",
       "    .dataframe tbody tr th {\n",
       "        vertical-align: top;\n",
       "    }\n",
       "\n",
       "    .dataframe thead th {\n",
       "        text-align: right;\n",
       "    }\n",
       "</style>\n",
       "<table border=\"1\" class=\"dataframe\">\n",
       "  <thead>\n",
       "    <tr style=\"text-align: right;\">\n",
       "      <th></th>\n",
       "      <th>NER</th>\n",
       "      <th>directions</th>\n",
       "    </tr>\n",
       "  </thead>\n",
       "  <tbody>\n",
       "    <tr>\n",
       "      <th>1517080</th>\n",
       "      <td>[ground_beef, green_peppers, onion, garlic, to...</td>\n",
       "      <td>[\"In a stockpot, cook the beef, green peppers ...</td>\n",
       "    </tr>\n",
       "    <tr>\n",
       "      <th>1517081</th>\n",
       "      <td>[red_potatoes, links, fresh_kielbasa, butter, ...</td>\n",
       "      <td>[\"Place potatoes in a large saucepan and cover...</td>\n",
       "    </tr>\n",
       "  </tbody>\n",
       "</table>\n",
       "</div>"
      ],
      "text/plain": [
       "                                                       NER   \n",
       "1517080  [ground_beef, green_peppers, onion, garlic, to...  \\\n",
       "1517081  [red_potatoes, links, fresh_kielbasa, butter, ...   \n",
       "\n",
       "                                                directions  \n",
       "1517080  [\"In a stockpot, cook the beef, green peppers ...  \n",
       "1517081  [\"Place potatoes in a large saucepan and cover...  "
      ]
     },
     "execution_count": 138,
     "metadata": {},
     "output_type": "execute_result"
    }
   ],
   "source": [
    "df_137.head(2)"
   ]
  },
  {
   "cell_type": "code",
   "execution_count": 139,
   "metadata": {},
   "outputs": [
    {
     "data": {
      "text/plain": [
       "<bound method Series.unique of 1517080    [ground_beef, green_peppers, onion, garlic, to...\n",
       "1517081    [red_potatoes, links, fresh_kielbasa, butter, ...\n",
       "1517082    [pork_loin_chops, vegetable_oil, butter, water...\n",
       "1517083    [egg, chicken_broth, butter, cubes, mushroom_s...\n",
       "1517084    [active_dry_yeast, water, caraway_seeds, salt,...\n",
       "                                 ...                        \n",
       "1528230    [frozen_rhubarb, cold_water, sugar, raspberry,...\n",
       "1528231    [Pastry, sugar, allpurpose, salt, fresh_pears,...\n",
       "1528232    [butter, sugar, milk, mint_Andes, marshmallow_...\n",
       "1528233    [bacon, broccoli_florets, onion, mushrooms, li...\n",
       "1528234    [ground_beef, onions, potatoes, green_pepper, ...\n",
       "Name: NER, Length: 11155, dtype: object>"
      ]
     },
     "execution_count": 139,
     "metadata": {},
     "output_type": "execute_result"
    }
   ],
   "source": [
    "df_137['NER'].unique"
   ]
  },
  {
   "cell_type": "code",
   "execution_count": 140,
   "metadata": {},
   "outputs": [
    {
     "data": {
      "text/plain": [
       "\"new_ingredient = new_ingredient.reindex(index=df_137.index).fillna(0)\\n\\n# Iterare attraverso ogni riga di df_137\\nfor idx, row in df_137.iterrows():\\n    ingredients = row['NER']\\n    for ingredient in ingredients:\\n        ingredient = ingredient.strip(',').lower()  \\n        if ingredient in new_ingredient.columns:\\n            new_ingredient.at[idx, ingredient] = 1\\n\\n# Creare il DataFrame finale senza la colonna 'NER'\\nfinal_df = pd.concat([df_137['directions'], new_ingredient], axis=1)\""
      ]
     },
     "execution_count": 140,
     "metadata": {},
     "output_type": "execute_result"
    }
   ],
   "source": [
    "\n",
    "\"\"\"new_ingredient = new_ingredient.reindex(index=df_137.index).fillna(0)\n",
    "\n",
    "# Iterare attraverso ogni riga di df_137\n",
    "for idx, row in df_137.iterrows():\n",
    "    ingredients = row['NER']\n",
    "    for ingredient in ingredients:\n",
    "        ingredient = ingredient.strip(',').lower()  \n",
    "        if ingredient in new_ingredient.columns:\n",
    "            new_ingredient.at[idx, ingredient] = 1\n",
    "\n",
    "# Creare il DataFrame finale senza la colonna 'NER'\n",
    "final_df = pd.concat([df_137['directions'], new_ingredient], axis=1)\"\"\"\n"
   ]
  },
  {
   "cell_type": "code",
   "execution_count": 141,
   "metadata": {},
   "outputs": [
    {
     "data": {
      "text/html": [
       "<div>\n",
       "<style scoped>\n",
       "    .dataframe tbody tr th:only-of-type {\n",
       "        vertical-align: middle;\n",
       "    }\n",
       "\n",
       "    .dataframe tbody tr th {\n",
       "        vertical-align: top;\n",
       "    }\n",
       "\n",
       "    .dataframe thead th {\n",
       "        text-align: right;\n",
       "    }\n",
       "</style>\n",
       "<table border=\"1\" class=\"dataframe\">\n",
       "  <thead>\n",
       "    <tr style=\"text-align: right;\">\n",
       "      <th></th>\n",
       "      <th>directions</th>\n",
       "      <th>magnolia_tripetala</th>\n",
       "      <th>calyptranthes_parriculata</th>\n",
       "      <th>chamaecyparis_pisifera_oil</th>\n",
       "      <th>mackerel</th>\n",
       "      <th>mimusops_elengi_flower</th>\n",
       "      <th>hyssop</th>\n",
       "      <th>buchu</th>\n",
       "      <th>black_pepper</th>\n",
       "      <th>eryngium_poterium_oil</th>\n",
       "      <th>...</th>\n",
       "      <th>rue_oil</th>\n",
       "      <th>roasted_coconut</th>\n",
       "      <th>cajeput_oil</th>\n",
       "      <th>star_anise</th>\n",
       "      <th>feijoa</th>\n",
       "      <th>tobacco_oil</th>\n",
       "      <th>cinnamon_leaf</th>\n",
       "      <th>green_tea</th>\n",
       "      <th>artemisia_porrecta_oil</th>\n",
       "      <th>munster_cheese</th>\n",
       "    </tr>\n",
       "  </thead>\n",
       "  <tbody>\n",
       "    <tr>\n",
       "      <th>1517080</th>\n",
       "      <td>[\"In a stockpot, cook the beef, green peppers ...</td>\n",
       "      <td>0</td>\n",
       "      <td>0</td>\n",
       "      <td>0</td>\n",
       "      <td>0</td>\n",
       "      <td>0</td>\n",
       "      <td>0</td>\n",
       "      <td>0</td>\n",
       "      <td>0</td>\n",
       "      <td>0</td>\n",
       "      <td>...</td>\n",
       "      <td>0</td>\n",
       "      <td>0</td>\n",
       "      <td>0</td>\n",
       "      <td>0</td>\n",
       "      <td>0</td>\n",
       "      <td>0</td>\n",
       "      <td>0</td>\n",
       "      <td>0</td>\n",
       "      <td>0</td>\n",
       "      <td>0</td>\n",
       "    </tr>\n",
       "    <tr>\n",
       "      <th>1517081</th>\n",
       "      <td>[\"Place potatoes in a large saucepan and cover...</td>\n",
       "      <td>0</td>\n",
       "      <td>0</td>\n",
       "      <td>0</td>\n",
       "      <td>0</td>\n",
       "      <td>0</td>\n",
       "      <td>0</td>\n",
       "      <td>0</td>\n",
       "      <td>0</td>\n",
       "      <td>0</td>\n",
       "      <td>...</td>\n",
       "      <td>0</td>\n",
       "      <td>0</td>\n",
       "      <td>0</td>\n",
       "      <td>0</td>\n",
       "      <td>0</td>\n",
       "      <td>0</td>\n",
       "      <td>0</td>\n",
       "      <td>0</td>\n",
       "      <td>0</td>\n",
       "      <td>0</td>\n",
       "    </tr>\n",
       "  </tbody>\n",
       "</table>\n",
       "<p>2 rows × 1531 columns</p>\n",
       "</div>"
      ],
      "text/plain": [
       "                                                directions   \n",
       "1517080  [\"In a stockpot, cook the beef, green peppers ...  \\\n",
       "1517081  [\"Place potatoes in a large saucepan and cover...   \n",
       "\n",
       "         magnolia_tripetala  calyptranthes_parriculata   \n",
       "1517080                   0                          0  \\\n",
       "1517081                   0                          0   \n",
       "\n",
       "         chamaecyparis_pisifera_oil  mackerel  mimusops_elengi_flower  hyssop   \n",
       "1517080                           0         0                       0       0  \\\n",
       "1517081                           0         0                       0       0   \n",
       "\n",
       "         buchu  black_pepper  eryngium_poterium_oil  ...  rue_oil   \n",
       "1517080      0             0                      0  ...        0  \\\n",
       "1517081      0             0                      0  ...        0   \n",
       "\n",
       "         roasted_coconut  cajeput_oil  star_anise  feijoa  tobacco_oil   \n",
       "1517080                0            0           0       0            0  \\\n",
       "1517081                0            0           0       0            0   \n",
       "\n",
       "         cinnamon_leaf  green_tea  artemisia_porrecta_oil  munster_cheese  \n",
       "1517080              0          0                       0               0  \n",
       "1517081              0          0                       0               0  \n",
       "\n",
       "[2 rows x 1531 columns]"
      ]
     },
     "execution_count": 141,
     "metadata": {},
     "output_type": "execute_result"
    }
   ],
   "source": [
    "final_df.head(2)"
   ]
  },
  {
   "cell_type": "code",
   "execution_count": 142,
   "metadata": {},
   "outputs": [
    {
     "data": {
      "text/plain": [
       "'# Calculate the number of \\'1\\' values for each row in final_df\\ncounts = final_df.iloc[:, 1:].sum(axis=1)  # Consider only the ingredient columns\\n\\n# Calculate maximum, minimum, and mean of \\'1\\' values across all observations\\nmax_1s = counts.max()\\nmin_1s = counts.min()\\nmean_1s = counts.mean()\\n\\n# Print the maximum, minimum, and mean of \\'1\\' values per row\\nprint(\"Maximum number of \\'1\\' values per row:\", max_1s)\\nprint(\"Minimum number of \\'1\\' values per row:\", min_1s)\\nprint(\"Mean number of \\'1\\' values per row:\", mean_1s)'"
      ]
     },
     "execution_count": 142,
     "metadata": {},
     "output_type": "execute_result"
    }
   ],
   "source": [
    "\"\"\"# Calculate the number of '1' values for each row in final_df\n",
    "counts = final_df.iloc[:, 1:].sum(axis=1)  # Consider only the ingredient columns\n",
    "\n",
    "# Calculate maximum, minimum, and mean of '1' values across all observations\n",
    "max_1s = counts.max()\n",
    "min_1s = counts.min()\n",
    "mean_1s = counts.mean()\n",
    "\n",
    "# Print the maximum, minimum, and mean of '1' values per row\n",
    "print(\"Maximum number of '1' values per row:\", max_1s)\n",
    "print(\"Minimum number of '1' values per row:\", min_1s)\n",
    "print(\"Mean number of '1' values per row:\", mean_1s)\"\"\""
   ]
  },
  {
   "cell_type": "code",
   "execution_count": 144,
   "metadata": {},
   "outputs": [
    {
     "ename": "KeyboardInterrupt",
     "evalue": "",
     "output_type": "error",
     "traceback": [
      "\u001b[1;31m---------------------------------------------------------------------------\u001b[0m",
      "\u001b[1;31mKeyError\u001b[0m                                  Traceback (most recent call last)",
      "File \u001b[1;32mc:\\Users\\cunia\\.pyenv\\pyenv-win\\versions\\3.11.3\\Lib\\site-packages\\pandas\\core\\indexes\\base.py:3652\u001b[0m, in \u001b[0;36mIndex.get_loc\u001b[1;34m(self, key)\u001b[0m\n\u001b[0;32m   3651\u001b[0m \u001b[38;5;28;01mtry\u001b[39;00m:\n\u001b[1;32m-> 3652\u001b[0m     \u001b[38;5;28;01mreturn\u001b[39;00m \u001b[38;5;28;43mself\u001b[39;49m\u001b[38;5;241;43m.\u001b[39;49m\u001b[43m_engine\u001b[49m\u001b[38;5;241;43m.\u001b[39;49m\u001b[43mget_loc\u001b[49m\u001b[43m(\u001b[49m\u001b[43mcasted_key\u001b[49m\u001b[43m)\u001b[49m\n\u001b[0;32m   3653\u001b[0m \u001b[38;5;28;01mexcept\u001b[39;00m \u001b[38;5;167;01mKeyError\u001b[39;00m \u001b[38;5;28;01mas\u001b[39;00m err:\n",
      "File \u001b[1;32mc:\\Users\\cunia\\.pyenv\\pyenv-win\\versions\\3.11.3\\Lib\\site-packages\\pandas\\_libs\\index.pyx:147\u001b[0m, in \u001b[0;36mpandas._libs.index.IndexEngine.get_loc\u001b[1;34m()\u001b[0m\n",
      "File \u001b[1;32mc:\\Users\\cunia\\.pyenv\\pyenv-win\\versions\\3.11.3\\Lib\\site-packages\\pandas\\_libs\\index.pyx:176\u001b[0m, in \u001b[0;36mpandas._libs.index.IndexEngine.get_loc\u001b[1;34m()\u001b[0m\n",
      "File \u001b[1;32mpandas\\_libs\\hashtable_class_helper.pxi:2606\u001b[0m, in \u001b[0;36mpandas._libs.hashtable.Int64HashTable.get_item\u001b[1;34m()\u001b[0m\n",
      "File \u001b[1;32mpandas\\_libs\\hashtable_class_helper.pxi:2630\u001b[0m, in \u001b[0;36mpandas._libs.hashtable.Int64HashTable.get_item\u001b[1;34m()\u001b[0m\n",
      "\u001b[1;31mKeyError\u001b[0m: 15560",
      "\nThe above exception was the direct cause of the following exception:\n",
      "\u001b[1;31mKeyError\u001b[0m                                  Traceback (most recent call last)",
      "File \u001b[1;32mc:\\Users\\cunia\\.pyenv\\pyenv-win\\versions\\3.11.3\\Lib\\site-packages\\pandas\\core\\frame.py:4190\u001b[0m, in \u001b[0;36mDataFrame._set_value\u001b[1;34m(self, index, col, value, takeable)\u001b[0m\n\u001b[0;32m   4189\u001b[0m     icol \u001b[38;5;241m=\u001b[39m \u001b[38;5;28mself\u001b[39m\u001b[38;5;241m.\u001b[39mcolumns\u001b[38;5;241m.\u001b[39mget_loc(col)\n\u001b[1;32m-> 4190\u001b[0m     iindex \u001b[38;5;241m=\u001b[39m \u001b[38;5;28;43mself\u001b[39;49m\u001b[38;5;241;43m.\u001b[39;49m\u001b[43mindex\u001b[49m\u001b[38;5;241;43m.\u001b[39;49m\u001b[43mget_loc\u001b[49m\u001b[43m(\u001b[49m\u001b[43mindex\u001b[49m\u001b[43m)\u001b[49m\n\u001b[0;32m   4191\u001b[0m \u001b[38;5;28mself\u001b[39m\u001b[38;5;241m.\u001b[39m_mgr\u001b[38;5;241m.\u001b[39mcolumn_setitem(icol, iindex, value, inplace_only\u001b[38;5;241m=\u001b[39m\u001b[38;5;28;01mTrue\u001b[39;00m)\n",
      "File \u001b[1;32mc:\\Users\\cunia\\.pyenv\\pyenv-win\\versions\\3.11.3\\Lib\\site-packages\\pandas\\core\\indexes\\base.py:3654\u001b[0m, in \u001b[0;36mIndex.get_loc\u001b[1;34m(self, key)\u001b[0m\n\u001b[0;32m   3653\u001b[0m \u001b[38;5;28;01mexcept\u001b[39;00m \u001b[38;5;167;01mKeyError\u001b[39;00m \u001b[38;5;28;01mas\u001b[39;00m err:\n\u001b[1;32m-> 3654\u001b[0m     \u001b[38;5;28;01mraise\u001b[39;00m \u001b[38;5;167;01mKeyError\u001b[39;00m(key) \u001b[38;5;28;01mfrom\u001b[39;00m \u001b[38;5;21;01merr\u001b[39;00m\n\u001b[0;32m   3655\u001b[0m \u001b[38;5;28;01mexcept\u001b[39;00m \u001b[38;5;167;01mTypeError\u001b[39;00m:\n\u001b[0;32m   3656\u001b[0m     \u001b[38;5;66;03m# If we have a listlike key, _check_indexing_error will raise\u001b[39;00m\n\u001b[0;32m   3657\u001b[0m     \u001b[38;5;66;03m#  InvalidIndexError. Otherwise we fall through and re-raise\u001b[39;00m\n\u001b[0;32m   3658\u001b[0m     \u001b[38;5;66;03m#  the TypeError.\u001b[39;00m\n",
      "\u001b[1;31mKeyError\u001b[0m: 15560",
      "\nDuring handling of the above exception, another exception occurred:\n",
      "\u001b[1;31mKeyboardInterrupt\u001b[0m                         Traceback (most recent call last)",
      "Cell \u001b[1;32mIn[144], line 31\u001b[0m\n\u001b[0;32m     29\u001b[0m \u001b[38;5;66;03m# Aggiungi i risultati al DataFrame new_ingredient\u001b[39;00m\n\u001b[0;32m     30\u001b[0m \u001b[38;5;28;01mfor\u001b[39;00m idx, match \u001b[38;5;129;01min\u001b[39;00m \u001b[38;5;28menumerate\u001b[39m(best_matches):\n\u001b[1;32m---> 31\u001b[0m     \u001b[43mnew_ingredient\u001b[49m\u001b[38;5;241;43m.\u001b[39;49m\u001b[43mat\u001b[49m\u001b[43m[\u001b[49m\u001b[43midx\u001b[49m\u001b[43m,\u001b[49m\u001b[43m \u001b[49m\u001b[43mmatch\u001b[49m\u001b[43m]\u001b[49m \u001b[38;5;241m=\u001b[39m \u001b[38;5;241m1\u001b[39m\n\u001b[0;32m     33\u001b[0m \u001b[38;5;66;03m# Creare il DataFrame finale senza la colonna 'NER'\u001b[39;00m\n\u001b[0;32m     34\u001b[0m final_df \u001b[38;5;241m=\u001b[39m pd\u001b[38;5;241m.\u001b[39mconcat([df_137[\u001b[38;5;124m'\u001b[39m\u001b[38;5;124mdirections\u001b[39m\u001b[38;5;124m'\u001b[39m], new_ingredient], axis\u001b[38;5;241m=\u001b[39m\u001b[38;5;241m1\u001b[39m)\n",
      "File \u001b[1;32mc:\\Users\\cunia\\.pyenv\\pyenv-win\\versions\\3.11.3\\Lib\\site-packages\\pandas\\core\\indexing.py:2423\u001b[0m, in \u001b[0;36m_AtIndexer.__setitem__\u001b[1;34m(self, key, value)\u001b[0m\n\u001b[0;32m   2420\u001b[0m     \u001b[38;5;28mself\u001b[39m\u001b[38;5;241m.\u001b[39mobj\u001b[38;5;241m.\u001b[39mloc[key] \u001b[38;5;241m=\u001b[39m value\n\u001b[0;32m   2421\u001b[0m     \u001b[38;5;28;01mreturn\u001b[39;00m\n\u001b[1;32m-> 2423\u001b[0m \u001b[38;5;28;01mreturn\u001b[39;00m \u001b[38;5;28;43msuper\u001b[39;49m\u001b[43m(\u001b[49m\u001b[43m)\u001b[49m\u001b[38;5;241;43m.\u001b[39;49m\u001b[38;5;21;43m__setitem__\u001b[39;49m\u001b[43m(\u001b[49m\u001b[43mkey\u001b[49m\u001b[43m,\u001b[49m\u001b[43m \u001b[49m\u001b[43mvalue\u001b[49m\u001b[43m)\u001b[49m\n",
      "File \u001b[1;32mc:\\Users\\cunia\\.pyenv\\pyenv-win\\versions\\3.11.3\\Lib\\site-packages\\pandas\\core\\indexing.py:2379\u001b[0m, in \u001b[0;36m_ScalarAccessIndexer.__setitem__\u001b[1;34m(self, key, value)\u001b[0m\n\u001b[0;32m   2376\u001b[0m \u001b[38;5;28;01mif\u001b[39;00m \u001b[38;5;28mlen\u001b[39m(key) \u001b[38;5;241m!=\u001b[39m \u001b[38;5;28mself\u001b[39m\u001b[38;5;241m.\u001b[39mndim:\n\u001b[0;32m   2377\u001b[0m     \u001b[38;5;28;01mraise\u001b[39;00m \u001b[38;5;167;01mValueError\u001b[39;00m(\u001b[38;5;124m\"\u001b[39m\u001b[38;5;124mNot enough indexers for scalar access (setting)!\u001b[39m\u001b[38;5;124m\"\u001b[39m)\n\u001b[1;32m-> 2379\u001b[0m \u001b[38;5;28;43mself\u001b[39;49m\u001b[38;5;241;43m.\u001b[39;49m\u001b[43mobj\u001b[49m\u001b[38;5;241;43m.\u001b[39;49m\u001b[43m_set_value\u001b[49m\u001b[43m(\u001b[49m\u001b[38;5;241;43m*\u001b[39;49m\u001b[43mkey\u001b[49m\u001b[43m,\u001b[49m\u001b[43m \u001b[49m\u001b[43mvalue\u001b[49m\u001b[38;5;241;43m=\u001b[39;49m\u001b[43mvalue\u001b[49m\u001b[43m,\u001b[49m\u001b[43m \u001b[49m\u001b[43mtakeable\u001b[49m\u001b[38;5;241;43m=\u001b[39;49m\u001b[38;5;28;43mself\u001b[39;49m\u001b[38;5;241;43m.\u001b[39;49m\u001b[43m_takeable\u001b[49m\u001b[43m)\u001b[49m\n",
      "File \u001b[1;32mc:\\Users\\cunia\\.pyenv\\pyenv-win\\versions\\3.11.3\\Lib\\site-packages\\pandas\\core\\frame.py:4203\u001b[0m, in \u001b[0;36mDataFrame._set_value\u001b[1;34m(self, index, col, value, takeable)\u001b[0m\n\u001b[0;32m   4201\u001b[0m         \u001b[38;5;28mself\u001b[39m\u001b[38;5;241m.\u001b[39miloc[index, col] \u001b[38;5;241m=\u001b[39m value\n\u001b[0;32m   4202\u001b[0m     \u001b[38;5;28;01melse\u001b[39;00m:\n\u001b[1;32m-> 4203\u001b[0m         \u001b[38;5;28;43mself\u001b[39;49m\u001b[38;5;241;43m.\u001b[39;49m\u001b[43mloc\u001b[49m\u001b[43m[\u001b[49m\u001b[43mindex\u001b[49m\u001b[43m,\u001b[49m\u001b[43m \u001b[49m\u001b[43mcol\u001b[49m\u001b[43m]\u001b[49m \u001b[38;5;241m=\u001b[39m value\n\u001b[0;32m   4204\u001b[0m     \u001b[38;5;28mself\u001b[39m\u001b[38;5;241m.\u001b[39m_item_cache\u001b[38;5;241m.\u001b[39mpop(col, \u001b[38;5;28;01mNone\u001b[39;00m)\n\u001b[0;32m   4206\u001b[0m \u001b[38;5;28;01mexcept\u001b[39;00m InvalidIndexError \u001b[38;5;28;01mas\u001b[39;00m ii_err:\n\u001b[0;32m   4207\u001b[0m     \u001b[38;5;66;03m# GH48729: Seems like you are trying to assign a value to a\u001b[39;00m\n\u001b[0;32m   4208\u001b[0m     \u001b[38;5;66;03m# row when only scalar options are permitted\u001b[39;00m\n",
      "File \u001b[1;32mc:\\Users\\cunia\\.pyenv\\pyenv-win\\versions\\3.11.3\\Lib\\site-packages\\pandas\\core\\indexing.py:849\u001b[0m, in \u001b[0;36m_LocationIndexer.__setitem__\u001b[1;34m(self, key, value)\u001b[0m\n\u001b[0;32m    846\u001b[0m \u001b[38;5;28mself\u001b[39m\u001b[38;5;241m.\u001b[39m_has_valid_setitem_indexer(key)\n\u001b[0;32m    848\u001b[0m iloc \u001b[38;5;241m=\u001b[39m \u001b[38;5;28mself\u001b[39m \u001b[38;5;28;01mif\u001b[39;00m \u001b[38;5;28mself\u001b[39m\u001b[38;5;241m.\u001b[39mname \u001b[38;5;241m==\u001b[39m \u001b[38;5;124m\"\u001b[39m\u001b[38;5;124miloc\u001b[39m\u001b[38;5;124m\"\u001b[39m \u001b[38;5;28;01melse\u001b[39;00m \u001b[38;5;28mself\u001b[39m\u001b[38;5;241m.\u001b[39mobj\u001b[38;5;241m.\u001b[39miloc\n\u001b[1;32m--> 849\u001b[0m \u001b[43miloc\u001b[49m\u001b[38;5;241;43m.\u001b[39;49m\u001b[43m_setitem_with_indexer\u001b[49m\u001b[43m(\u001b[49m\u001b[43mindexer\u001b[49m\u001b[43m,\u001b[49m\u001b[43m \u001b[49m\u001b[43mvalue\u001b[49m\u001b[43m,\u001b[49m\u001b[43m \u001b[49m\u001b[38;5;28;43mself\u001b[39;49m\u001b[38;5;241;43m.\u001b[39;49m\u001b[43mname\u001b[49m\u001b[43m)\u001b[49m\n",
      "File \u001b[1;32mc:\\Users\\cunia\\.pyenv\\pyenv-win\\versions\\3.11.3\\Lib\\site-packages\\pandas\\core\\indexing.py:1801\u001b[0m, in \u001b[0;36m_iLocIndexer._setitem_with_indexer\u001b[1;34m(self, indexer, value, name)\u001b[0m\n\u001b[0;32m   1799\u001b[0m taker[\u001b[38;5;241m-\u001b[39m\u001b[38;5;241m1\u001b[39m] \u001b[38;5;241m=\u001b[39m \u001b[38;5;241m-\u001b[39m\u001b[38;5;241m1\u001b[39m\n\u001b[0;32m   1800\u001b[0m reindexers \u001b[38;5;241m=\u001b[39m {i: (labels, taker)}\n\u001b[1;32m-> 1801\u001b[0m new_obj \u001b[38;5;241m=\u001b[39m \u001b[38;5;28;43mself\u001b[39;49m\u001b[38;5;241;43m.\u001b[39;49m\u001b[43mobj\u001b[49m\u001b[38;5;241;43m.\u001b[39;49m\u001b[43m_reindex_with_indexers\u001b[49m\u001b[43m(\u001b[49m\n\u001b[0;32m   1802\u001b[0m \u001b[43m    \u001b[49m\u001b[43mreindexers\u001b[49m\u001b[43m,\u001b[49m\u001b[43m \u001b[49m\u001b[43mallow_dups\u001b[49m\u001b[38;5;241;43m=\u001b[39;49m\u001b[38;5;28;43;01mTrue\u001b[39;49;00m\n\u001b[0;32m   1803\u001b[0m \u001b[43m\u001b[49m\u001b[43m)\u001b[49m\n\u001b[0;32m   1804\u001b[0m \u001b[38;5;28mself\u001b[39m\u001b[38;5;241m.\u001b[39mobj\u001b[38;5;241m.\u001b[39m_mgr \u001b[38;5;241m=\u001b[39m new_obj\u001b[38;5;241m.\u001b[39m_mgr\n\u001b[0;32m   1805\u001b[0m \u001b[38;5;28mself\u001b[39m\u001b[38;5;241m.\u001b[39mobj\u001b[38;5;241m.\u001b[39m_maybe_update_cacher(clear\u001b[38;5;241m=\u001b[39m\u001b[38;5;28;01mTrue\u001b[39;00m)\n",
      "File \u001b[1;32mc:\\Users\\cunia\\.pyenv\\pyenv-win\\versions\\3.11.3\\Lib\\site-packages\\pandas\\core\\generic.py:5431\u001b[0m, in \u001b[0;36mNDFrame._reindex_with_indexers\u001b[1;34m(self, reindexers, fill_value, copy, allow_dups)\u001b[0m\n\u001b[0;32m   5428\u001b[0m     indexer \u001b[38;5;241m=\u001b[39m ensure_platform_int(indexer)\n\u001b[0;32m   5430\u001b[0m \u001b[38;5;66;03m# TODO: speed up on homogeneous DataFrame objects (see _reindex_multi)\u001b[39;00m\n\u001b[1;32m-> 5431\u001b[0m new_data \u001b[38;5;241m=\u001b[39m \u001b[43mnew_data\u001b[49m\u001b[38;5;241;43m.\u001b[39;49m\u001b[43mreindex_indexer\u001b[49m\u001b[43m(\u001b[49m\n\u001b[0;32m   5432\u001b[0m \u001b[43m    \u001b[49m\u001b[43mindex\u001b[49m\u001b[43m,\u001b[49m\n\u001b[0;32m   5433\u001b[0m \u001b[43m    \u001b[49m\u001b[43mindexer\u001b[49m\u001b[43m,\u001b[49m\n\u001b[0;32m   5434\u001b[0m \u001b[43m    \u001b[49m\u001b[43maxis\u001b[49m\u001b[38;5;241;43m=\u001b[39;49m\u001b[43mbaxis\u001b[49m\u001b[43m,\u001b[49m\n\u001b[0;32m   5435\u001b[0m \u001b[43m    \u001b[49m\u001b[43mfill_value\u001b[49m\u001b[38;5;241;43m=\u001b[39;49m\u001b[43mfill_value\u001b[49m\u001b[43m,\u001b[49m\n\u001b[0;32m   5436\u001b[0m \u001b[43m    \u001b[49m\u001b[43mallow_dups\u001b[49m\u001b[38;5;241;43m=\u001b[39;49m\u001b[43mallow_dups\u001b[49m\u001b[43m,\u001b[49m\n\u001b[0;32m   5437\u001b[0m \u001b[43m    \u001b[49m\u001b[43mcopy\u001b[49m\u001b[38;5;241;43m=\u001b[39;49m\u001b[43mcopy\u001b[49m\u001b[43m,\u001b[49m\n\u001b[0;32m   5438\u001b[0m \u001b[43m\u001b[49m\u001b[43m)\u001b[49m\n\u001b[0;32m   5439\u001b[0m \u001b[38;5;66;03m# If we've made a copy once, no need to make another one\u001b[39;00m\n\u001b[0;32m   5440\u001b[0m copy \u001b[38;5;241m=\u001b[39m \u001b[38;5;28;01mFalse\u001b[39;00m\n",
      "File \u001b[1;32mc:\\Users\\cunia\\.pyenv\\pyenv-win\\versions\\3.11.3\\Lib\\site-packages\\pandas\\core\\internals\\managers.py:747\u001b[0m, in \u001b[0;36mBaseBlockManager.reindex_indexer\u001b[1;34m(self, new_axis, indexer, axis, fill_value, allow_dups, copy, only_slice, use_na_proxy)\u001b[0m\n\u001b[0;32m    740\u001b[0m     new_blocks \u001b[38;5;241m=\u001b[39m \u001b[38;5;28mself\u001b[39m\u001b[38;5;241m.\u001b[39m_slice_take_blocks_ax0(\n\u001b[0;32m    741\u001b[0m         indexer,\n\u001b[0;32m    742\u001b[0m         fill_value\u001b[38;5;241m=\u001b[39mfill_value,\n\u001b[0;32m    743\u001b[0m         only_slice\u001b[38;5;241m=\u001b[39monly_slice,\n\u001b[0;32m    744\u001b[0m         use_na_proxy\u001b[38;5;241m=\u001b[39muse_na_proxy,\n\u001b[0;32m    745\u001b[0m     )\n\u001b[0;32m    746\u001b[0m \u001b[38;5;28;01melse\u001b[39;00m:\n\u001b[1;32m--> 747\u001b[0m     new_blocks \u001b[38;5;241m=\u001b[39m \u001b[43m[\u001b[49m\n\u001b[0;32m    748\u001b[0m \u001b[43m        \u001b[49m\u001b[43mblk\u001b[49m\u001b[38;5;241;43m.\u001b[39;49m\u001b[43mtake_nd\u001b[49m\u001b[43m(\u001b[49m\n\u001b[0;32m    749\u001b[0m \u001b[43m            \u001b[49m\u001b[43mindexer\u001b[49m\u001b[43m,\u001b[49m\n\u001b[0;32m    750\u001b[0m \u001b[43m            \u001b[49m\u001b[43maxis\u001b[49m\u001b[38;5;241;43m=\u001b[39;49m\u001b[38;5;241;43m1\u001b[39;49m\u001b[43m,\u001b[49m\n\u001b[0;32m    751\u001b[0m \u001b[43m            \u001b[49m\u001b[43mfill_value\u001b[49m\u001b[38;5;241;43m=\u001b[39;49m\u001b[43m(\u001b[49m\n\u001b[0;32m    752\u001b[0m \u001b[43m                \u001b[49m\u001b[43mfill_value\u001b[49m\u001b[43m \u001b[49m\u001b[38;5;28;43;01mif\u001b[39;49;00m\u001b[43m \u001b[49m\u001b[43mfill_value\u001b[49m\u001b[43m \u001b[49m\u001b[38;5;129;43;01mis\u001b[39;49;00m\u001b[43m \u001b[49m\u001b[38;5;129;43;01mnot\u001b[39;49;00m\u001b[43m \u001b[49m\u001b[38;5;28;43;01mNone\u001b[39;49;00m\u001b[43m \u001b[49m\u001b[38;5;28;43;01melse\u001b[39;49;00m\u001b[43m \u001b[49m\u001b[43mblk\u001b[49m\u001b[38;5;241;43m.\u001b[39;49m\u001b[43mfill_value\u001b[49m\n\u001b[0;32m    753\u001b[0m \u001b[43m            \u001b[49m\u001b[43m)\u001b[49m\u001b[43m,\u001b[49m\n\u001b[0;32m    754\u001b[0m \u001b[43m        \u001b[49m\u001b[43m)\u001b[49m\n\u001b[0;32m    755\u001b[0m \u001b[43m        \u001b[49m\u001b[38;5;28;43;01mfor\u001b[39;49;00m\u001b[43m \u001b[49m\u001b[43mblk\u001b[49m\u001b[43m \u001b[49m\u001b[38;5;129;43;01min\u001b[39;49;00m\u001b[43m \u001b[49m\u001b[38;5;28;43mself\u001b[39;49m\u001b[38;5;241;43m.\u001b[39;49m\u001b[43mblocks\u001b[49m\n\u001b[0;32m    756\u001b[0m \u001b[43m    \u001b[49m\u001b[43m]\u001b[49m\n\u001b[0;32m    758\u001b[0m new_axes \u001b[38;5;241m=\u001b[39m \u001b[38;5;28mlist\u001b[39m(\u001b[38;5;28mself\u001b[39m\u001b[38;5;241m.\u001b[39maxes)\n\u001b[0;32m    759\u001b[0m new_axes[axis] \u001b[38;5;241m=\u001b[39m new_axis\n",
      "File \u001b[1;32mc:\\Users\\cunia\\.pyenv\\pyenv-win\\versions\\3.11.3\\Lib\\site-packages\\pandas\\core\\internals\\managers.py:748\u001b[0m, in \u001b[0;36m<listcomp>\u001b[1;34m(.0)\u001b[0m\n\u001b[0;32m    740\u001b[0m     new_blocks \u001b[38;5;241m=\u001b[39m \u001b[38;5;28mself\u001b[39m\u001b[38;5;241m.\u001b[39m_slice_take_blocks_ax0(\n\u001b[0;32m    741\u001b[0m         indexer,\n\u001b[0;32m    742\u001b[0m         fill_value\u001b[38;5;241m=\u001b[39mfill_value,\n\u001b[0;32m    743\u001b[0m         only_slice\u001b[38;5;241m=\u001b[39monly_slice,\n\u001b[0;32m    744\u001b[0m         use_na_proxy\u001b[38;5;241m=\u001b[39muse_na_proxy,\n\u001b[0;32m    745\u001b[0m     )\n\u001b[0;32m    746\u001b[0m \u001b[38;5;28;01melse\u001b[39;00m:\n\u001b[0;32m    747\u001b[0m     new_blocks \u001b[38;5;241m=\u001b[39m [\n\u001b[1;32m--> 748\u001b[0m         \u001b[43mblk\u001b[49m\u001b[38;5;241;43m.\u001b[39;49m\u001b[43mtake_nd\u001b[49m\u001b[43m(\u001b[49m\n\u001b[0;32m    749\u001b[0m \u001b[43m            \u001b[49m\u001b[43mindexer\u001b[49m\u001b[43m,\u001b[49m\n\u001b[0;32m    750\u001b[0m \u001b[43m            \u001b[49m\u001b[43maxis\u001b[49m\u001b[38;5;241;43m=\u001b[39;49m\u001b[38;5;241;43m1\u001b[39;49m\u001b[43m,\u001b[49m\n\u001b[0;32m    751\u001b[0m \u001b[43m            \u001b[49m\u001b[43mfill_value\u001b[49m\u001b[38;5;241;43m=\u001b[39;49m\u001b[43m(\u001b[49m\n\u001b[0;32m    752\u001b[0m \u001b[43m                \u001b[49m\u001b[43mfill_value\u001b[49m\u001b[43m \u001b[49m\u001b[38;5;28;43;01mif\u001b[39;49;00m\u001b[43m \u001b[49m\u001b[43mfill_value\u001b[49m\u001b[43m \u001b[49m\u001b[38;5;129;43;01mis\u001b[39;49;00m\u001b[43m \u001b[49m\u001b[38;5;129;43;01mnot\u001b[39;49;00m\u001b[43m \u001b[49m\u001b[38;5;28;43;01mNone\u001b[39;49;00m\u001b[43m \u001b[49m\u001b[38;5;28;43;01melse\u001b[39;49;00m\u001b[43m \u001b[49m\u001b[43mblk\u001b[49m\u001b[38;5;241;43m.\u001b[39;49m\u001b[43mfill_value\u001b[49m\n\u001b[0;32m    753\u001b[0m \u001b[43m            \u001b[49m\u001b[43m)\u001b[49m\u001b[43m,\u001b[49m\n\u001b[0;32m    754\u001b[0m \u001b[43m        \u001b[49m\u001b[43m)\u001b[49m\n\u001b[0;32m    755\u001b[0m         \u001b[38;5;28;01mfor\u001b[39;00m blk \u001b[38;5;129;01min\u001b[39;00m \u001b[38;5;28mself\u001b[39m\u001b[38;5;241m.\u001b[39mblocks\n\u001b[0;32m    756\u001b[0m     ]\n\u001b[0;32m    758\u001b[0m new_axes \u001b[38;5;241m=\u001b[39m \u001b[38;5;28mlist\u001b[39m(\u001b[38;5;28mself\u001b[39m\u001b[38;5;241m.\u001b[39maxes)\n\u001b[0;32m    759\u001b[0m new_axes[axis] \u001b[38;5;241m=\u001b[39m new_axis\n",
      "File \u001b[1;32mc:\\Users\\cunia\\.pyenv\\pyenv-win\\versions\\3.11.3\\Lib\\site-packages\\pandas\\core\\internals\\blocks.py:960\u001b[0m, in \u001b[0;36mBlock.take_nd\u001b[1;34m(self, indexer, axis, new_mgr_locs, fill_value)\u001b[0m\n\u001b[0;32m    957\u001b[0m \u001b[38;5;28;01mif\u001b[39;00m new_mgr_locs \u001b[38;5;129;01mis\u001b[39;00m \u001b[38;5;28;01mNone\u001b[39;00m:\n\u001b[0;32m    958\u001b[0m     new_mgr_locs \u001b[38;5;241m=\u001b[39m \u001b[38;5;28mself\u001b[39m\u001b[38;5;241m.\u001b[39m_mgr_locs\n\u001b[1;32m--> 960\u001b[0m \u001b[38;5;28;01mif\u001b[39;00m \u001b[38;5;129;01mnot\u001b[39;00m \u001b[43mis_dtype_equal\u001b[49m\u001b[43m(\u001b[49m\u001b[43mnew_values\u001b[49m\u001b[38;5;241;43m.\u001b[39;49m\u001b[43mdtype\u001b[49m\u001b[43m,\u001b[49m\u001b[43m \u001b[49m\u001b[38;5;28;43mself\u001b[39;49m\u001b[38;5;241;43m.\u001b[39;49m\u001b[43mdtype\u001b[49m\u001b[43m)\u001b[49m:\n\u001b[0;32m    961\u001b[0m     \u001b[38;5;28;01mreturn\u001b[39;00m \u001b[38;5;28mself\u001b[39m\u001b[38;5;241m.\u001b[39mmake_block(new_values, new_mgr_locs)\n\u001b[0;32m    962\u001b[0m \u001b[38;5;28;01melse\u001b[39;00m:\n",
      "File \u001b[1;32mc:\\Users\\cunia\\.pyenv\\pyenv-win\\versions\\3.11.3\\Lib\\site-packages\\pandas\\core\\dtypes\\common.py:551\u001b[0m, in \u001b[0;36mis_dtype_equal\u001b[1;34m(source, target)\u001b[0m\n\u001b[0;32m    546\u001b[0m             \u001b[38;5;28;01mreturn\u001b[39;00m \u001b[38;5;28;01mFalse\u001b[39;00m\n\u001b[0;32m    548\u001b[0m     \u001b[38;5;28;01mreturn\u001b[39;00m _is_dtype(arr_or_dtype, condition)\n\u001b[1;32m--> 551\u001b[0m \u001b[38;5;28;01mdef\u001b[39;00m \u001b[38;5;21mis_dtype_equal\u001b[39m(source, target) \u001b[38;5;241m-\u001b[39m\u001b[38;5;241m>\u001b[39m \u001b[38;5;28mbool\u001b[39m:\n\u001b[0;32m    552\u001b[0m \u001b[38;5;250m    \u001b[39m\u001b[38;5;124;03m\"\"\"\u001b[39;00m\n\u001b[0;32m    553\u001b[0m \u001b[38;5;124;03m    Check if two dtypes are equal.\u001b[39;00m\n\u001b[0;32m    554\u001b[0m \n\u001b[1;32m   (...)\u001b[0m\n\u001b[0;32m    576\u001b[0m \u001b[38;5;124;03m    False\u001b[39;00m\n\u001b[0;32m    577\u001b[0m \u001b[38;5;124;03m    \"\"\"\u001b[39;00m\n\u001b[0;32m    578\u001b[0m     \u001b[38;5;28;01mif\u001b[39;00m \u001b[38;5;28misinstance\u001b[39m(target, \u001b[38;5;28mstr\u001b[39m):\n",
      "\u001b[1;31mKeyboardInterrupt\u001b[0m: "
     ]
    }
   ],
   "source": [
    "from sklearn.feature_extraction.text import TfidfVectorizer\n",
    "from sklearn.metrics.pairwise import cosine_similarity\n",
    "ingredient_columns = new_ingredient.columns.tolist()\n",
    "\n",
    "# Estrai gli ingredienti parziali da df_137['NER']\n",
    "ingredients_from_ner = []\n",
    "for idx, row in df_137.iterrows():\n",
    "    ingredients = row['NER']\n",
    "    for ingredient in ingredients:\n",
    "        ingredient = ingredient.strip(',').lower()\n",
    "        ingredients_from_ner.append(ingredient)\n",
    "\n",
    "# Calcola la similarità con TF-IDF e trova la migliore corrispondenza\n",
    "tfidf_vectorizer = TfidfVectorizer(vocabulary=ingredient_columns, lowercase=False)\n",
    "tfidf_matrix = tfidf_vectorizer.fit_transform(ingredients_from_ner)\n",
    "\n",
    "# Trova l'indice della colonna con la massima similarità per ogni ingrediente parziale\n",
    "best_matches = []\n",
    "for i, ingredient in enumerate(ingredients_from_ner):\n",
    "    # Calcola la similarità coseno tra l'ingrediente parziale e tutte le colonne\n",
    "    similarity_scores = cosine_similarity(tfidf_matrix[i], tfidf_vectorizer.transform(ingredient_columns))\n",
    "    \n",
    "    # Trova l'indice della colonna con il punteggio di similarità massimo\n",
    "    best_match_index = similarity_scores.argmax()\n",
    "    \n",
    "    # Aggiungi la migliore corrispondenza trovata alla lista\n",
    "    best_matches.append(ingredient_columns[best_match_index])\n",
    "\n",
    "# Aggiungi i risultati al DataFrame new_ingredient\n",
    "for idx, match in enumerate(best_matches):\n",
    "    new_ingredient.at[idx, match] = 1\n",
    "\n",
    "# Creare il DataFrame finale senza la colonna 'NER'\n",
    "final_df = pd.concat([df_137['directions'], new_ingredient], axis=1)"
   ]
  },
  {
   "cell_type": "code",
   "execution_count": null,
   "metadata": {},
   "outputs": [],
   "source": []
  },
  {
   "cell_type": "code",
   "execution_count": null,
   "metadata": {},
   "outputs": [],
   "source": []
  }
 ],
 "metadata": {
  "kernelspec": {
   "display_name": "Python 3",
   "language": "python",
   "name": "python3"
  },
  "language_info": {
   "codemirror_mode": {
    "name": "ipython",
    "version": 3
   },
   "file_extension": ".py",
   "mimetype": "text/x-python",
   "name": "python",
   "nbconvert_exporter": "python",
   "pygments_lexer": "ipython3",
   "version": "3.11.3"
  }
 },
 "nbformat": 4,
 "nbformat_minor": 2
}
